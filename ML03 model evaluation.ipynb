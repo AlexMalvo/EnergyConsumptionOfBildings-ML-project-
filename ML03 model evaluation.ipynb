{
 "cells": [
  {
   "cell_type": "markdown",
   "metadata": {},
   "source": [
    "### Постановка задачи\n",
    "Построить простую модель энергопотребления здания по среднему значению, \n",
    "оценить эффективность модели через метрику\n",
    "\\begin{equation}\n",
    "RMSLE = {\\sqrt{\\sum_{i=1}^{n}{(log(p_i+1) - log(a_i+1))^2} \\over n}}.\n",
    "\\end{equation}\n",
    "* n - число наблюдений\n",
    "* log - натуральный логарифм\n",
    "* p_i - вычисленное значение метрики\n",
    "* a_i - заданное значение метрики\n",
    "\n",
    "Данные: http://video.ittensive.com/machine-learning/ashrae/train.0.0.csv.gz\n",
    "Соревнование: https://www.kaggle.com/c/ashrae-energy-prediction/\n"
   ]
  },
  {
   "cell_type": "markdown",
   "metadata": {},
   "source": [
    "### Загрузка библиотек"
   ]
  },
  {
   "cell_type": "code",
   "execution_count": 1,
   "metadata": {
    "ExecuteTime": {
     "end_time": "2024-08-02T13:04:05.959537Z",
     "start_time": "2024-08-02T13:04:04.719888Z"
    }
   },
   "outputs": [],
   "source": [
    "%matplotlib inline\n",
    "import numpy as np\n",
    "import pandas as pd\n",
    "from sklearn.model_selection import train_test_split\n",
    "import matplotlib.pyplot as plt\n",
    "from matplotlib.pyplot import rcParams \n",
    "rcParams['figure.figsize'] = 16, 8"
   ]
  },
  {
   "cell_type": "markdown",
   "metadata": {},
   "source": [
    "### Загрузка данных\n",
    "Дополнительно сразу отсечем пустые дни и выделим час из значения времени"
   ]
  },
  {
   "cell_type": "code",
   "execution_count": 2,
   "metadata": {
    "ExecuteTime": {
     "end_time": "2024-08-02T13:04:09.717037Z",
     "start_time": "2024-08-02T13:04:09.074061Z"
    }
   },
   "outputs": [
    {
     "name": "stdout",
     "output_type": "stream",
     "text": [
      "      building_id  meter           timestamp  meter_reading  hour\n",
      "704             0      0 2016-01-30 08:00:00        43.6839     8\n",
      "725             0      0 2016-01-31 05:00:00        37.5408     5\n",
      "737             0      0 2016-01-31 17:00:00        52.5571    17\n",
      "2366            0      0 2016-04-08 14:00:00        59.3827    14\n",
      "2923            0      0 2016-05-01 19:00:00       448.0000    19\n"
     ]
    }
   ],
   "source": [
    "energy_0 = pd.read_csv(\"http://video.ittensive.com/machine-learning/ashrae/train.0.0.csv.gz\")\n",
    "energy_0 = energy_0[energy_0[\"meter_reading\"] > 0]\n",
    "energy_0[\"timestamp\"] = pd.to_datetime(energy_0[\"timestamp\"])\n",
    "energy_0[\"hour\"] = energy_0[\"timestamp\"].dt.hour\n",
    "print (energy_0.head())"
   ]
  },
  {
   "cell_type": "markdown",
   "metadata": {},
   "source": [
    "### Разделение данных на обучение и проверку\n",
    "Выделим 20% всех данных на проверку, остальные оставим на обучение"
   ]
  },
  {
   "cell_type": "code",
   "execution_count": 3,
   "metadata": {
    "ExecuteTime": {
     "end_time": "2024-08-02T13:04:11.527126Z",
     "start_time": "2024-08-02T13:04:11.503761Z"
    }
   },
   "outputs": [
    {
     "name": "stdout",
     "output_type": "stream",
     "text": [
      "      building_id  meter           timestamp  meter_reading  hour\n",
      "6493            0      0 2016-09-27 13:00:00        252.547    13\n",
      "5101            0      0 2016-07-31 13:00:00        293.501    13\n",
      "8714            0      0 2016-12-29 02:00:00        238.214     2\n",
      "5746            0      0 2016-08-27 10:00:00        235.483    10\n",
      "4251            0      0 2016-06-26 03:00:00        244.357     3\n"
     ]
    }
   ],
   "source": [
    "energy_0_train, energy_0_test = train_test_split(energy_0, test_size=0.2)\n",
    "print (energy_0_train.head())"
   ]
  },
  {
   "cell_type": "markdown",
   "metadata": {},
   "source": [
    "### Создадим модели\n",
    "Среднее и медианное значение потребление энергии по часам"
   ]
  },
  {
   "cell_type": "code",
   "execution_count": 4,
   "metadata": {
    "ExecuteTime": {
     "end_time": "2024-08-02T13:04:15.427206Z",
     "start_time": "2024-08-02T13:04:15.405030Z"
    }
   },
   "outputs": [
    {
     "name": "stdout",
     "output_type": "stream",
     "text": [
      "         Среднее   Медиана\n",
      "hour                      \n",
      "0     240.332234  241.6260\n",
      "1     238.144151  240.2610\n",
      "2     238.564363  244.3570\n",
      "3     241.602947  246.4040\n",
      "4     239.553652  245.0390\n",
      "5     239.297575  246.4040\n",
      "6     239.322219  246.4040\n",
      "7     239.330129  245.7220\n",
      "8     242.685211  239.5790\n",
      "9     238.029577  235.4830\n",
      "10    234.526964  237.5310\n",
      "11    233.003681  240.9440\n",
      "12    236.306272  243.6740\n",
      "13    236.321527  243.6740\n",
      "14    240.649721  245.3805\n",
      "15    235.676706  242.3090\n",
      "16    234.919457  242.3090\n",
      "17    234.453693  240.9440\n",
      "18    237.279101  239.5790\n",
      "19    236.291971  237.8725\n",
      "20    239.735319  238.2140\n",
      "21    235.087564  236.8480\n",
      "22    239.151190  238.2140\n",
      "23    238.366503  239.5790\n"
     ]
    }
   ],
   "source": [
    "energy_0_train_hours = energy_0_train.groupby(\"hour\")\n",
    "energy_0_train_averages = pd.DataFrame(\n",
    "    {\"Среднее\": energy_0_train_hours.mean()[\"meter_reading\"],\n",
    "     \"Медиана\": energy_0_train_hours.median()[\"meter_reading\"]})\n",
    "print (energy_0_train_averages)"
   ]
  },
  {
   "cell_type": "markdown",
   "metadata": {},
   "source": [
    "### Функция проверки модели\n",
    "\\begin{equation}\n",
    "RMSLE = {\\sqrt{\\sum_{i=1}^{n}{(log(p_i+1) - log(a_i+1))^2} \\over n}}.\n",
    "\\end{equation}\n",
    "\n",
    "Для вычисления метрики создадим шесть новых столбцов в тестовом наборе данных: с логарифмом значения метрики, предсказанием по среднему и по медиане, а также с квадратом разницы предсказаний и логарифма значения. Последний столбец добавим, чтобы сравнить предсказание с его отсутствием - нулями в значениях."
   ]
  },
  {
   "cell_type": "code",
   "execution_count": 5,
   "metadata": {
    "ExecuteTime": {
     "end_time": "2024-08-02T13:04:19.490440Z",
     "start_time": "2024-08-02T13:04:18.315980Z"
    }
   },
   "outputs": [
    {
     "name": "stdout",
     "output_type": "stream",
     "text": [
      "      building_id  meter           timestamp  meter_reading  hour  \\\n",
      "6582            0      0 2016-10-01 06:00:00        249.135     6   \n",
      "7328            0      0 2016-11-01 08:00:00        221.832     8   \n",
      "3563            0      0 2016-05-28 11:00:00        174.735    11   \n",
      "4352            0      0 2016-06-30 08:00:00        246.404     8   \n",
      "3811            0      0 2016-06-07 19:00:00        244.357    19   \n",
      "\n",
      "      meter_reading_mean_q  meter_reading_median_q  meter_reading_zero_q  \n",
      "6582              0.001602                0.000121             30.492493  \n",
      "7328              0.008003                0.005872             29.229357  \n",
      "3563              0.082002                0.102227             26.718325  \n",
      "4352              0.000229                0.000783             30.371370  \n",
      "3811              0.001117                0.000717             30.279865  \n"
     ]
    }
   ],
   "source": [
    "def calculate_model (x):\n",
    "    meter_reading_log = np.log(x.meter_reading + 1)\n",
    "    meter_reading_mean = np.log(energy_0_train_averages[\"Среднее\"][x.hour] + 1)\n",
    "    meter_reading_median = np.log(energy_0_train_averages[\"Медиана\"][x.hour] + 1)\n",
    "    x[\"meter_reading_mean_q\"] = (meter_reading_log - meter_reading_mean)**2\n",
    "    x[\"meter_reading_median_q\"] = (meter_reading_log - meter_reading_median)**2\n",
    "    x[\"meter_reading_zero_q\"] = (meter_reading_log)**2\n",
    "    return x\n",
    "\n",
    "energy_0_test = energy_0_test.apply(calculate_model,\n",
    "                                    axis=1, result_type=\"expand\")\n",
    "print (energy_0_test.head())"
   ]
  },
  {
   "cell_type": "markdown",
   "metadata": {},
   "source": [
    "Теперь остается просуммировать квадраты расхождений, разделить на количество значений и извлечь квадратный корень"
   ]
  },
  {
   "cell_type": "code",
   "execution_count": 7,
   "metadata": {
    "ExecuteTime": {
     "end_time": "2024-08-02T13:04:23.008055Z",
     "start_time": "2024-08-02T13:04:22.987216Z"
    }
   },
   "outputs": [
    {
     "name": "stdout",
     "output_type": "stream",
     "text": [
      "Качество медианы: 0.25660693484905556\n",
      "Качество среднего: 0.2544643484343353\n",
      "Качество нуля: 5.452515946798339\n"
     ]
    }
   ],
   "source": [
    "energy_0_test_median_rmsle = np.sqrt(energy_0_test[\"meter_reading_median_q\"].sum() / len(energy_0_test))\n",
    "energy_0_test_mean_rmsle = np.sqrt(energy_0_test[\"meter_reading_mean_q\"].sum() / len(energy_0_test))\n",
    "energy_0_test_zero_rmsle = np.sqrt(energy_0_test[\"meter_reading_zero_q\"].sum() / len(energy_0_test))\n",
    "print (\"Качество медианы:\", energy_0_test_median_rmsle)\n",
    "print (\"Качество среднего:\", energy_0_test_mean_rmsle)\n",
    "print (\"Качество нуля:\", energy_0_test_zero_rmsle)"
   ]
  }
 ],
 "metadata": {
  "kernelspec": {
   "display_name": "Python 3",
   "language": "python",
   "name": "python3"
  },
  "language_info": {
   "codemirror_mode": {
    "name": "ipython",
    "version": 3
   },
   "file_extension": ".py",
   "mimetype": "text/x-python",
   "name": "python",
   "nbconvert_exporter": "python",
   "pygments_lexer": "ipython3",
   "version": "3.7.6"
  }
 },
 "nbformat": 4,
 "nbformat_minor": 2
}
